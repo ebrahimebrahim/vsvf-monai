{
 "cells": [
  {
   "cell_type": "markdown",
   "id": "9f767ef7",
   "metadata": {},
   "source": [
    "In this notebook, we will demonstrate the use of the vSVF block by\n",
    "- getting some data (e.g. OASIS, OAI, synethetic data, whatever) and constructing dataloaders\n",
    "- training an affine registration model to pre-align images by affine transform\n",
    "- constructing and training a fluid registration model that uses our vSVF unit\n",
    "\n",
    "The vSVF unit will be a MONAI block that we create in `vsvf.py`. We will try to limit needed dependencies outside of MONAI; we include mermaid as a dependency in this repository for validation only.\n",
    "\n",
    "Once it's working, the vSVF block can be contributed to MONAI and this notebook can be converted into a tutorial in the style of the other [MONAI tutorials](https://github.com/Project-MONAI/tutorials)."
   ]
  },
  {
   "cell_type": "code",
   "execution_count": 6,
   "id": "bc9c184a",
   "metadata": {},
   "outputs": [],
   "source": [
    "import monai\n",
    "import torch\n",
    "import numpy as np\n",
    "import matplotlib.pyplot as plt\n",
    "\n",
    "# the part we intend to contribute\n",
    "from vsvf import Vsvf, VsvfDualizeMomentum, VsvfIntegrateVelocity\n",
    "\n",
    "# for validation only\n",
    "import mermaid"
   ]
  }
 ],
 "metadata": {
  "kernelspec": {
   "display_name": "Python 3 (ipykernel)",
   "language": "python",
   "name": "python3"
  },
  "language_info": {
   "codemirror_mode": {
    "name": "ipython",
    "version": 3
   },
   "file_extension": ".py",
   "mimetype": "text/x-python",
   "name": "python",
   "nbconvert_exporter": "python",
   "pygments_lexer": "ipython3",
   "version": "3.8.10"
  }
 },
 "nbformat": 4,
 "nbformat_minor": 5
}
