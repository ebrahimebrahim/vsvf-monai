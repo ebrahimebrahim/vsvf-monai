{
 "cells": [
  {
   "cell_type": "markdown",
   "id": "1409211a",
   "metadata": {},
   "source": [
    "plan: use the synthetic data generator you made to create a dataset, then create a reg unet that generates vector fields that we will interpret as velocity fields (for now, to start with). Use DVF2DDF and a basic norm-based regularization loss and an LNCC similarity loss to train the registration network."
   ]
  },
  {
   "cell_type": "code",
   "execution_count": null,
   "id": "b57c0732",
   "metadata": {},
   "outputs": [],
   "source": [
    "from main_demo import synthesize_image\n",
    "import matplotlib.pyplot as plt\n",
    "import monai\n",
    "import torch\n",
    "import numpy as np\n",
    "import tempfile, os, glob"
   ]
  },
  {
   "cell_type": "code",
   "execution_count": null,
   "id": "42e48780",
   "metadata": {},
   "outputs": [],
   "source": [
    "# Create a temporary directory to work in\n",
    "root_dir = tempfile.mkdtemp()\n",
    "data_dir = os.path.join(root_dir, \"synthetic_data\")\n",
    "print(f\"Working in the following directory: {data_dir}\")\n",
    "save_image = monai.transforms.SaveImage(\n",
    "    output_dir=data_dir,\n",
    "    output_ext='.png',\n",
    "    scale = 255, # applies to png format only\n",
    "    separate_folder = False,\n",
    "    print_log=False\n",
    ")\n",
    "\n",
    "# Save a bunch of synthetic images in the temporary directory\n",
    "number_of_images_to_generate = 300\n",
    "for _ in range(number_of_images_to_generate):\n",
    "    image = synthesize_image((128,128), 32, 96)\n",
    "    image = np.expand_dims(image, axis=0) # add channel dimension, which save_image expects\n",
    "    save_image(image)\n",
    "image_paths = glob.glob(os.path.join(data_dir,'*.png'))\n",
    "\n",
    "# Split training vs validation data, and\n",
    "# create data list made out of image pairs (including pairs in a symmetric and reflexive fashion)\n",
    "image_paths_valid, image_paths_train = monai.data.utils.partition_dataset(image_paths, ratios=(2,8), shuffle=True)\n",
    "def create_image_pairs_data(paths):\n",
    "    \"\"\"Given a list of image paths, create a data list where each data item is a dictionary containing a pair of images.\"\"\"\n",
    "    return [{'img0':paths[i0], 'img1':paths[i1]} for i0 in range(len(paths)) for i1 in range(len(paths))]\n",
    "data_train = create_image_pairs_data(image_paths_train)\n",
    "data_valid = create_image_pairs_data(image_paths_valid)\n",
    "\n",
    "# Create transform for loading the data and producing a 2-channel tensor of images,\n",
    "# the two channels being for target/fixed vs moving image in the registration task\n",
    "transform = monai.transforms.Compose(\n",
    "    transforms=[\n",
    "        monai.transforms.LoadImageD(keys=['img0', 'img1'], image_only=True),\n",
    "        monai.transforms.ToTensorD(keys=['img0', 'img1']),\n",
    "        monai.transforms.AddChannelD(keys=['img0', 'img1']),\n",
    "        monai.transforms.ConcatItemsD(keys=['img0', 'img1'], name='img01', dim=0),\n",
    "        monai.transforms.DeleteItemsD(keys=['img0', 'img1']),\n",
    "    ]\n",
    ")\n",
    "\n",
    "# Create datasets\n",
    "# (TODO: Replace these by CacheDataset when training infrastructure is in place.\n",
    "# For now they are regular datasets to prevent memory overhead while in early development.)\n",
    "dataset_train = monai.data.Dataset(data=data_train, transform=transform)\n",
    "dataset_valid = monai.data.Dataset(data=data_valid, transform=transform)"
   ]
  },
  {
   "cell_type": "code",
   "execution_count": null,
   "id": "ca2488ec",
   "metadata": {},
   "outputs": [],
   "source": [
    "dataset_valid[0]['img01'].shape"
   ]
  }
 ],
 "metadata": {
  "kernelspec": {
   "display_name": "Python 3 (ipykernel)",
   "language": "python",
   "name": "python3"
  },
  "language_info": {
   "codemirror_mode": {
    "name": "ipython",
    "version": 3
   },
   "file_extension": ".py",
   "mimetype": "text/x-python",
   "name": "python",
   "nbconvert_exporter": "python",
   "pygments_lexer": "ipython3",
   "version": "3.8.10"
  }
 },
 "nbformat": 4,
 "nbformat_minor": 5
}
